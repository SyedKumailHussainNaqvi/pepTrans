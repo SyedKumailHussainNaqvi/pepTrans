{
 "cells": [
  {
   "cell_type": "code",
   "execution_count": 1,
   "metadata": {},
   "outputs": [
    {
     "name": "stderr",
     "output_type": "stream",
     "text": [
      "/home/kumail/anaconda3/envs/SKS/lib/python3.9/site-packages/tensorflow_addons/utils/tfa_eol_msg.py:23: UserWarning: \n",
      "\n",
      "TensorFlow Addons (TFA) has ended development and introduction of new features.\n",
      "TFA has entered a minimal maintenance and release mode until a planned end of life in May 2024.\n",
      "Please modify downstream libraries to take dependencies from other repositories in our TensorFlow community (e.g. Keras, Keras-CV, and Keras-NLP). \n",
      "\n",
      "For more information see: https://github.com/tensorflow/addons/issues/2807 \n",
      "\n",
      "  warnings.warn(\n",
      "/home/kumail/anaconda3/envs/SKS/lib/python3.9/site-packages/tensorflow_addons/utils/ensure_tf_install.py:53: UserWarning: Tensorflow Addons supports using Python ops for all Tensorflow versions above or equal to 2.13.0 and strictly below 2.16.0 (nightly versions are not supported). \n",
      " The versions of TensorFlow you are currently using is 2.9.0 and is not supported. \n",
      "Some things might work, some things might not.\n",
      "If you were to encounter a bug, do not file an issue.\n",
      "If you want to make sure you're using a tested and supported configuration, either change the TensorFlow version or the TensorFlow Addons's version. \n",
      "You can find the compatibility matrix in TensorFlow Addon's readme:\n",
      "https://github.com/tensorflow/addons\n",
      "  warnings.warn(\n"
     ]
    }
   ],
   "source": [
    "%run \"/home/kumail/Bioinformatics/pepTrans Code/imports.py\"\n",
    "%run \"/home/kumail/Bioinformatics/pepTrans Code/Binding_Site_pepTrans_module.py\"\n",
    "%run \"/home/kumail/Bioinformatics/pepTrans Code/Cross_Validation_pepTrans_Binding_Sites.py\"\n",
    "%run \"/home/kumail/Bioinformatics/pepTrans Code/pepTrans.py\"\n",
    "%run \"/home/kumail/Bioinformatics/pepTrans Code/run_pepTrans_Jupyter.py\"\n",
    "import warnings\n",
    "import logging\n",
    "warnings.filterwarnings(\"ignore\")\n",
    "logging.getLogger('tensorflow').setLevel(logging.ERROR)\n",
    "warnings.filterwarnings(\"ignore\", message=\".*TensorFlow Addons.*\")\n",
    "warnings.filterwarnings(\"ignore\", message=\".*you are currently using is 2.9.0 and is not supported.*\")\n",
    "os.environ['CUDA_VISIBLE_DEVICES'] = '5'\n",
    "tf.config.run_functions_eagerly(True)"
   ]
  },
  {
   "cell_type": "markdown",
   "metadata": {},
   "source": [
    "### Fold-1"
   ]
  },
  {
   "cell_type": "code",
   "execution_count": 2,
   "metadata": {},
   "outputs": [
    {
     "name": "stdout",
     "output_type": "stream",
     "text": [
      "Using GPU 5\n",
      "Loading pretrained weights from: /home/kumail/Bioinformatics/github pepTrans/pepTrans weight/Peptide Binding Residues/pepTrans_Binding_Residue_Pair_Wise_fold_1_Weights.h5\n",
      "Loading test/train dataset from: /home/kumail/Bioinformatics/github pepTrans/test dataset/Peptide Binding Residues/fold_1_test_data.h5\n"
     ]
    },
    {
     "name": "stderr",
     "output_type": "stream",
     "text": [
      "2025-08-11 14:16:14.690846: I tensorflow/core/platform/cpu_feature_guard.cc:193] This TensorFlow binary is optimized with oneAPI Deep Neural Network Library (oneDNN) to use the following CPU instructions in performance-critical operations:  AVX2 FMA\n",
      "To enable them in other operations, rebuild TensorFlow with the appropriate compiler flags.\n",
      "2025-08-11 14:16:15.489878: I tensorflow/core/common_runtime/gpu/gpu_device.cc:1532] Created device /job:localhost/replica:0/task:0/device:GPU:0 with 11097 MB memory:  -> device: 0, name: NVIDIA TITAN Xp, pci bus id: 0000:0d:00.0, compute capability: 6.1\n"
     ]
    },
    {
     "name": "stdout",
     "output_type": "stream",
     "text": [
      "Pretrained model weights loaded.\n"
     ]
    },
    {
     "name": "stderr",
     "output_type": "stream",
     "text": [
      "2025-08-11 14:16:18.304694: I tensorflow/stream_executor/cuda/cuda_dnn.cc:384] Loaded cuDNN version 8500\n",
      "2025-08-11 14:16:18.779776: I tensorflow/core/platform/default/subprocess.cc:304] Start cannot spawn child process: No such file or directory\n",
      "2025-08-11 14:16:18.801734: E tensorflow/stream_executor/gpu/asm_compiler.cc:105] You are using ptxas 8.x, but TF requires ptxas 9.x (and strongly prefers >= 11.1).  Compilation of XLA kernels below will likely fail.\n",
      "\n",
      "You may not need to update CUDA; cherry-picking the ptxas binary is often sufficient.\n"
     ]
    },
    {
     "name": "stdout",
     "output_type": "stream",
     "text": [
      "10/10 [==============================] - 7s 516ms/step\n",
      "\n",
      "=== Test Set Evaluation ===\n",
      "Mean MCC: 0.7545\n",
      "Mean AUC: 0.5263\n",
      "\n",
      "Total execution time: 166.64 seconds\n"
     ]
    }
   ],
   "source": [
    "args = SimpleNamespace(\n",
    "    mode='bs',\n",
    "    train_h5=None,  # No training\n",
    "    test_h5=\"/home/kumail/Bioinformatics/github pepTrans/test dataset/Peptide Binding Residues/fold_1_test_data.h5\",\n",
    "    gpu='5',\n",
    "    weights=\"/home/kumail/Bioinformatics/github pepTrans/pepTrans weight/Peptide Binding Residues/pepTrans_Binding_Residue_Pair_Wise_fold_1_Weights.h5\"\n",
    ")\n",
    "run_pepTrans(args)"
   ]
  },
  {
   "cell_type": "markdown",
   "metadata": {},
   "source": [
    "### Fold-2"
   ]
  },
  {
   "cell_type": "code",
   "execution_count": 3,
   "metadata": {},
   "outputs": [
    {
     "name": "stdout",
     "output_type": "stream",
     "text": [
      "Using GPU 5\n",
      "Loading pretrained weights from: /home/kumail/Bioinformatics/github pepTrans/pepTrans weight/Peptide Binding Residues/pepTrans_Binding_Residue_Pair_Wise_fold_2_Weights.h5\n",
      "Loading test/train dataset from: /home/kumail/Bioinformatics/Dataset/Bindingsites/Output/Protein_Length_500/fold_2_test_data.h5\n",
      "Pretrained model weights loaded.\n",
      "10/10 [==============================] - 6s 516ms/step\n",
      "\n",
      "=== Test Set Evaluation ===\n",
      "Mean MCC: 0.7498\n",
      "Mean AUC: 0.5174\n",
      "\n",
      "Total execution time: 165.93 seconds\n"
     ]
    }
   ],
   "source": [
    "args = SimpleNamespace(\n",
    "    mode='bs',\n",
    "    train_h5=None,  # No training\n",
    "    test_h5=\"/home/kumail/Bioinformatics/Dataset/Bindingsites/Output/Protein_Length_500/fold_2_test_data.h5\",\n",
    "    gpu='5',\n",
    "    weights=\"/home/kumail/Bioinformatics/github pepTrans/pepTrans weight/Peptide Binding Residues/pepTrans_Binding_Residue_Pair_Wise_fold_2_Weights.h5\"\n",
    ")\n",
    "run_pepTrans(args)"
   ]
  },
  {
   "cell_type": "markdown",
   "metadata": {},
   "source": [
    "### Fold-3"
   ]
  },
  {
   "cell_type": "code",
   "execution_count": 4,
   "metadata": {},
   "outputs": [
    {
     "name": "stdout",
     "output_type": "stream",
     "text": [
      "Using GPU 5\n",
      "Loading pretrained weights from: /home/kumail/Bioinformatics/github pepTrans/pepTrans weight/Peptide Binding Residues/pepTrans_Binding_Residue_Pair_Wise_fold_3_Weights.h5\n",
      "Loading test/train dataset from: /home/kumail/Bioinformatics/Dataset/Bindingsites/Output/Protein_Length_500/fold_3_test_data.h5\n",
      "Pretrained model weights loaded.\n",
      "10/10 [==============================] - 6s 538ms/step\n",
      "\n",
      "=== Test Set Evaluation ===\n",
      "Mean MCC: 0.7515\n",
      "Mean AUC: 0.5150\n",
      "\n",
      "Total execution time: 166.57 seconds\n"
     ]
    }
   ],
   "source": [
    "args = SimpleNamespace(\n",
    "    mode='bs',\n",
    "    train_h5=None,  # No training\n",
    "    test_h5=\"/home/kumail/Bioinformatics/Dataset/Bindingsites/Output/Protein_Length_500/fold_3_test_data.h5\",\n",
    "    gpu='5',\n",
    "    weights=\"/home/kumail/Bioinformatics/github pepTrans/pepTrans weight/Peptide Binding Residues/pepTrans_Binding_Residue_Pair_Wise_fold_3_Weights.h5\"\n",
    ")\n",
    "run_pepTrans(args)"
   ]
  },
  {
   "cell_type": "markdown",
   "metadata": {},
   "source": [
    "### Fold-4"
   ]
  },
  {
   "cell_type": "code",
   "execution_count": 5,
   "metadata": {},
   "outputs": [
    {
     "name": "stdout",
     "output_type": "stream",
     "text": [
      "Using GPU 5\n",
      "Loading pretrained weights from: /home/kumail/Bioinformatics/github pepTrans/pepTrans weight/Peptide Binding Residues/pepTrans_Binding_Residue_Pair_Wise_fold_4_Weights.h5\n",
      "Loading test/train dataset from: /home/kumail/Bioinformatics/Dataset/Bindingsites/Output/Protein_Length_500/fold_4_test_data.h5\n",
      "Pretrained model weights loaded.\n",
      "10/10 [==============================] - 6s 548ms/step\n",
      "\n",
      "=== Test Set Evaluation ===\n",
      "Mean MCC: 0.7654\n",
      "Mean AUC: 0.5415\n",
      "\n",
      "Total execution time: 154.15 seconds\n"
     ]
    }
   ],
   "source": [
    "args = SimpleNamespace(\n",
    "    mode='bs',\n",
    "    train_h5=None,  # No training\n",
    "    test_h5=\"/home/kumail/Bioinformatics/Dataset/Bindingsites/Output/Protein_Length_500/fold_4_test_data.h5\",\n",
    "    gpu='5',\n",
    "    weights=\"/home/kumail/Bioinformatics/github pepTrans/pepTrans weight/Peptide Binding Residues/pepTrans_Binding_Residue_Pair_Wise_fold_4_Weights.h5\"\n",
    ")\n",
    "run_pepTrans(args)"
   ]
  },
  {
   "cell_type": "markdown",
   "metadata": {},
   "source": [
    "### Fold-5"
   ]
  },
  {
   "cell_type": "code",
   "execution_count": 6,
   "metadata": {},
   "outputs": [
    {
     "name": "stdout",
     "output_type": "stream",
     "text": [
      "Using GPU 5\n",
      "Loading pretrained weights from: /home/kumail/Bioinformatics/github pepTrans/pepTrans weight/Peptide Binding Residues/pepTrans_Binding_Residue_Pair_Wise_fold_5_Weights.h5\n",
      "Loading test/train dataset from: /home/kumail/Bioinformatics/Dataset/Bindingsites/Output/Protein_Length_500/fold_5_test_data.h5\n",
      "Pretrained model weights loaded.\n",
      "10/10 [==============================] - 5s 457ms/step\n",
      "\n",
      "=== Test Set Evaluation ===\n",
      "Mean MCC: 0.7503\n",
      "Mean AUC: 0.5165\n",
      "\n",
      "Total execution time: 138.92 seconds\n"
     ]
    }
   ],
   "source": [
    "args = SimpleNamespace(\n",
    "    mode='bs',\n",
    "    train_h5=None,  # No training\n",
    "    test_h5=\"/home/kumail/Bioinformatics/Dataset/Bindingsites/Output/Protein_Length_500/fold_5_test_data.h5\",\n",
    "    gpu='5',\n",
    "    weights=\"/home/kumail/Bioinformatics/github pepTrans/pepTrans weight/Peptide Binding Residues/pepTrans_Binding_Residue_Pair_Wise_fold_5_Weights.h5\"\n",
    ")\n",
    "run_pepTrans(args)"
   ]
  },
  {
   "cell_type": "markdown",
   "metadata": {},
   "source": [
    "### Mean and Std for 5-fold"
   ]
  },
  {
   "cell_type": "code",
   "execution_count": 7,
   "metadata": {},
   "outputs": [
    {
     "name": "stdout",
     "output_type": "stream",
     "text": [
      "MCC: Mean = 0.7543, Std = 0.0058\n",
      "AUC: Mean = 0.5233, Std = 0.0099\n"
     ]
    }
   ],
   "source": [
    "mcc_values = [0.7545, 0.7498, 0.7515, 0.7654, 0.7503]\n",
    "auc_values = [0.5263, 0.5174, 0.5150, 0.5415, 0.5165]\n",
    "\n",
    "mcc_mean = np.mean(mcc_values)\n",
    "mcc_std = np.std(mcc_values, ddof=0)  # population std\n",
    "\n",
    "auc_mean = np.mean(auc_values)\n",
    "auc_std = np.std(auc_values, ddof=0)  # population std\n",
    "\n",
    "print(f\"MCC: Mean = {mcc_mean:.4f}, Std = {mcc_std:.4f}\")\n",
    "print(f\"AUC: Mean = {auc_mean:.4f}, Std = {auc_std:.4f}\")"
   ]
  }
 ],
 "metadata": {
  "kernelspec": {
   "display_name": "SKS",
   "language": "python",
   "name": "python3"
  },
  "language_info": {
   "codemirror_mode": {
    "name": "ipython",
    "version": 3
   },
   "file_extension": ".py",
   "mimetype": "text/x-python",
   "name": "python",
   "nbconvert_exporter": "python",
   "pygments_lexer": "ipython3",
   "version": "3.9.16"
  }
 },
 "nbformat": 4,
 "nbformat_minor": 2
}
