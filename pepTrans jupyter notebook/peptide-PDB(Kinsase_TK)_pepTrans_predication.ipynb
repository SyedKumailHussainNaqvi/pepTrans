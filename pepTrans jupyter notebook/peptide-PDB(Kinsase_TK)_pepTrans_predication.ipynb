{
 "cells": [
  {
   "cell_type": "code",
   "execution_count": 1,
   "metadata": {},
   "outputs": [
    {
     "name": "stderr",
     "output_type": "stream",
     "text": [
      "/home/kumail/anaconda3/envs/SKS/lib/python3.9/site-packages/tensorflow_addons/utils/tfa_eol_msg.py:23: UserWarning: \n",
      "\n",
      "TensorFlow Addons (TFA) has ended development and introduction of new features.\n",
      "TFA has entered a minimal maintenance and release mode until a planned end of life in May 2024.\n",
      "Please modify downstream libraries to take dependencies from other repositories in our TensorFlow community (e.g. Keras, Keras-CV, and Keras-NLP). \n",
      "\n",
      "For more information see: https://github.com/tensorflow/addons/issues/2807 \n",
      "\n",
      "  warnings.warn(\n",
      "/home/kumail/anaconda3/envs/SKS/lib/python3.9/site-packages/tensorflow_addons/utils/ensure_tf_install.py:53: UserWarning: Tensorflow Addons supports using Python ops for all Tensorflow versions above or equal to 2.13.0 and strictly below 2.16.0 (nightly versions are not supported). \n",
      " The versions of TensorFlow you are currently using is 2.9.0 and is not supported. \n",
      "Some things might work, some things might not.\n",
      "If you were to encounter a bug, do not file an issue.\n",
      "If you want to make sure you're using a tested and supported configuration, either change the TensorFlow version or the TensorFlow Addons's version. \n",
      "You can find the compatibility matrix in TensorFlow Addon's readme:\n",
      "https://github.com/tensorflow/addons\n",
      "  warnings.warn(\n"
     ]
    }
   ],
   "source": [
    "%run \"/home/kumail/Bioinformatics/pepTrans Code/imports.py\"\n",
    "%run \"/home/kumail/Bioinformatics/pepTrans Code/Binary_Classification_pepTrans_module.py\" \n",
    "%run \"/home/kumail/Bioinformatics/pepTrans Code/pepTrans.py\"\n",
    "%run \"/home/kumail/Bioinformatics/pepTrans Code/run_pepTrans_Jupyter.py\"\n",
    "import warnings\n",
    "import logging\n",
    "warnings.filterwarnings(\"ignore\")\n",
    "logging.getLogger('tensorflow').setLevel(logging.ERROR)\n",
    "warnings.filterwarnings(\"ignore\", message=\".*TensorFlow Addons.*\")\n",
    "warnings.filterwarnings(\"ignore\", message=\".*you are currently using is 2.9.0 and is not supported.*\")\n",
    "os.environ['CUDA_VISIBLE_DEVICES'] = '6'\n",
    "tf.config.run_functions_eagerly(True)"
   ]
  },
  {
   "cell_type": "markdown",
   "metadata": {},
   "source": [
    "### Fold 1"
   ]
  },
  {
   "cell_type": "code",
   "execution_count": null,
   "metadata": {},
   "outputs": [
    {
     "name": "stdout",
     "output_type": "stream",
     "text": [
      "Using GPU 6\n",
      "Loading pretrained weights from: /home/kumail/Bioinformatics/Model/Protein Family/TK/TK_fold_1_Model_Weights.h5\n",
      "Loading test dataset from: /home/kumail/Bioinformatics/Dataset/Protein Family/Output/Embedding/Kinase_TK/KFold/test_fold_1.csv\n",
      "Pretrained model weights loaded.\n",
      "425/425 [==============================] - 6s 14ms/step\n",
      "\n",
      "=== Test Set Evaluation ===\n",
      "Test Loss: 0.2682\n",
      "Test Model AUC: 0.9436\n",
      "Test AUC: 0.9436\n",
      "\n",
      "Total execution time: 31.70 seconds\n"
     ]
    }
   ],
   "source": [
    "args = SimpleNamespace(\n",
    "    mode='pbd',\n",
    "    csv= \"/home/kumail/Bioinformatics/Dataset/Protein Family/Output/Embedding/Kinase_TK/KFold/test_fold_1.csv\" ,\n",
    "    label='Bound',\n",
    "    train_h5=None,\n",
    "    test_h5=None,\n",
    "    gpu='6',\n",
    "    weights= \"/home/kumail/Bioinformatics/pepTrans/Protein Family/TK/TK_fold_1_pepTrans_Weights.h5\", \n",
    "    test_csv= \"/home/kumail/Bioinformatics/Dataset/Protein Family/Output/Embedding/Kinase_TK/KFold/test_fold_1.csv\"\n",
    ")\n",
    "run_pepTrans(args)"
   ]
  },
  {
   "cell_type": "markdown",
   "metadata": {},
   "source": [
    "### Fold 2"
   ]
  },
  {
   "cell_type": "code",
   "execution_count": null,
   "metadata": {},
   "outputs": [
    {
     "name": "stdout",
     "output_type": "stream",
     "text": [
      "Using GPU 6\n",
      "Loading pretrained weights from: /home/kumail/Bioinformatics/Model/Protein Family/TK/TK_fold_2_Model_Weights.h5\n",
      "Loading test dataset from: /home/kumail/Bioinformatics/Dataset/Protein Family/Output/Embedding/Kinase_TK/KFold/test_fold_2.csv\n",
      "Pretrained model weights loaded.\n",
      "425/425 [==============================] - 5s 12ms/step\n",
      "\n",
      "=== Test Set Evaluation ===\n",
      "Test Loss: 0.2724\n",
      "Test Model AUC: 0.9502\n",
      "Test AUC: 0.9503\n",
      "\n",
      "Total execution time: 29.35 seconds\n"
     ]
    }
   ],
   "source": [
    "args = SimpleNamespace(\n",
    "    mode='pbd',\n",
    "    csv= \"/home/kumail/Bioinformatics/Dataset/Protein Family/Output/Embedding/Kinase_TK/KFold/test_fold_1.csv\" ,\n",
    "    label='Bound',\n",
    "    train_h5=None,\n",
    "    test_h5=None,\n",
    "    gpu='6',\n",
    "    weights= \"/home/kumail/Bioinformatics/pepTrans/Protein Family/TK/TK_fold_2_pepTrans_Weights.h5\", \n",
    "    test_csv= \"/home/kumail/Bioinformatics/Dataset/Protein Family/Output/Embedding/Kinase_TK/KFold/test_fold_2.csv\"\n",
    ")\n",
    "run_pepTrans(args)"
   ]
  },
  {
   "cell_type": "markdown",
   "metadata": {},
   "source": [
    "### Fold 3"
   ]
  },
  {
   "cell_type": "code",
   "execution_count": null,
   "metadata": {},
   "outputs": [
    {
     "name": "stdout",
     "output_type": "stream",
     "text": [
      "Using GPU 6\n",
      "Loading pretrained weights from: /home/kumail/Bioinformatics/Model/Protein Family/TK/TK_fold_3_Model_Weights.h5\n",
      "Loading test dataset from: /home/kumail/Bioinformatics/Dataset/Protein Family/Output/Embedding/Kinase_TK/KFold/test_fold_3.csv\n",
      "Pretrained model weights loaded.\n",
      "425/425 [==============================] - 5s 13ms/step\n",
      "\n",
      "=== Test Set Evaluation ===\n",
      "Test Loss: 0.2614\n",
      "Test Model AUC: 0.9371\n",
      "Test AUC: 0.9371\n",
      "\n",
      "Total execution time: 29.45 seconds\n"
     ]
    }
   ],
   "source": [
    "args = SimpleNamespace(\n",
    "    mode='pbd',\n",
    "    csv= \"/home/kumail/Bioinformatics/Dataset/Protein Family/Output/Embedding/Kinase_TK/KFold/test_fold_1.csv\" ,\n",
    "    label='Bound',\n",
    "    train_h5=None,\n",
    "    test_h5=None,\n",
    "    gpu='6',\n",
    "    weights= \"/home/kumail/Bioinformatics/pepTrans/Protein Family/TK/TK_fold_3_pepTrans_Weights.h5\", \n",
    "    test_csv= \"/home/kumail/Bioinformatics/Dataset/Protein Family/Output/Embedding/Kinase_TK/KFold/test_fold_3.csv\"\n",
    ")\n",
    "run_pepTrans(args)"
   ]
  },
  {
   "cell_type": "markdown",
   "metadata": {},
   "source": [
    "### Fold 4"
   ]
  },
  {
   "cell_type": "code",
   "execution_count": null,
   "metadata": {},
   "outputs": [
    {
     "name": "stdout",
     "output_type": "stream",
     "text": [
      "Using GPU 6\n",
      "Loading pretrained weights from: /home/kumail/Bioinformatics/Model/Protein Family/TK/TK_fold_4_Model_Weights.h5\n",
      "Loading test dataset from: /home/kumail/Bioinformatics/Dataset/Protein Family/Output/Embedding/Kinase_TK/KFold/test_fold_4.csv\n",
      "Pretrained model weights loaded.\n",
      "425/425 [==============================] - 5s 13ms/step\n",
      "\n",
      "=== Test Set Evaluation ===\n",
      "Test Loss: 0.2553\n",
      "Test Model AUC: 0.9410\n",
      "Test AUC: 0.9410\n",
      "\n",
      "Total execution time: 29.75 seconds\n"
     ]
    }
   ],
   "source": [
    "args = SimpleNamespace(\n",
    "    mode='pbd',\n",
    "    csv= \"/home/kumail/Bioinformatics/Dataset/Protein Family/Output/Embedding/Kinase_TK/KFold/test_fold_1.csv\" ,\n",
    "    label='Bound',\n",
    "    train_h5=None,\n",
    "    test_h5=None,\n",
    "    gpu='6',\n",
    "    weights= \"/home/kumail/Bioinformatics/pepTrans/Protein Family/TK/TK_fold_4_pepTrans_Weights.h5\", \n",
    "    test_csv= \"/home/kumail/Bioinformatics/Dataset/Protein Family/Output/Embedding/Kinase_TK/KFold/test_fold_4.csv\"\n",
    ")\n",
    "run_pepTrans(args)"
   ]
  },
  {
   "cell_type": "markdown",
   "metadata": {},
   "source": [
    "### Fold 5"
   ]
  },
  {
   "cell_type": "code",
   "execution_count": null,
   "metadata": {},
   "outputs": [
    {
     "name": "stdout",
     "output_type": "stream",
     "text": [
      "Using GPU 6\n",
      "Loading pretrained weights from: /home/kumail/Bioinformatics/Model/Protein Family/TK/TK_fold_5_Model_Weights.h5\n",
      "Loading test dataset from: /home/kumail/Bioinformatics/Dataset/Protein Family/Output/Embedding/Kinase_TK/KFold/test_fold_5.csv\n",
      "Pretrained model weights loaded.\n",
      "425/425 [==============================] - 5s 12ms/step\n",
      "\n",
      "=== Test Set Evaluation ===\n",
      "Test Loss: 0.2755\n",
      "Test Model AUC: 0.9352\n",
      "Test AUC: 0.9352\n",
      "\n",
      "Total execution time: 29.39 seconds\n"
     ]
    }
   ],
   "source": [
    "args = SimpleNamespace(\n",
    "    mode='pbd',\n",
    "    csv= \"/home/kumail/Bioinformatics/Dataset/Protein Family/Output/Embedding/Kinase_TK/KFold/test_fold_1.csv\" ,\n",
    "    label='Bound',\n",
    "    train_h5=None,\n",
    "    test_h5=None,\n",
    "    gpu='6',\n",
    "    weights= \"/home/kumail/Bioinformatics/pepTrans/Protein Family/TK/TK_fold_5_pepTrans_Weights.h5\", \n",
    "    test_csv= \"/home/kumail/Bioinformatics/Dataset/Protein Family/Output/Embedding/Kinase_TK/KFold/test_fold_5.csv\"\n",
    ")\n",
    "run_pepTrans(args)"
   ]
  },
  {
   "cell_type": "markdown",
   "metadata": {},
   "source": [
    "### Fold 6"
   ]
  },
  {
   "cell_type": "code",
   "execution_count": null,
   "metadata": {},
   "outputs": [
    {
     "name": "stdout",
     "output_type": "stream",
     "text": [
      "Using GPU 6\n",
      "Loading pretrained weights from: /home/kumail/Bioinformatics/Model/Protein Family/TK/TK_fold_6_Model_Weights.h5\n",
      "Loading test dataset from: /home/kumail/Bioinformatics/Dataset/Protein Family/Output/Embedding/Kinase_TK/KFold/test_fold_6.csv\n",
      "Pretrained model weights loaded.\n",
      "425/425 [==============================] - 5s 13ms/step\n",
      "\n",
      "=== Test Set Evaluation ===\n",
      "Test Loss: 0.2624\n",
      "Test Model AUC: 0.9354\n",
      "Test AUC: 0.9354\n",
      "\n",
      "Total execution time: 29.26 seconds\n"
     ]
    }
   ],
   "source": [
    "args = SimpleNamespace(\n",
    "    mode='pbd',\n",
    "    csv= \"/home/kumail/Bioinformatics/Dataset/Protein Family/Output/Embedding/Kinase_TK/KFold/test_fold_1.csv\" ,\n",
    "    label='Bound',\n",
    "    train_h5=None,\n",
    "    test_h5=None,\n",
    "    gpu='6',\n",
    "    weights= \"/home/kumail/Bioinformatics/pepTrans/Protein Family/TK/TK_fold_6_pepTrans_Weights.h5\", \n",
    "    test_csv= \"/home/kumail/Bioinformatics/Dataset/Protein Family/Output/Embedding/Kinase_TK/KFold/test_fold_6.csv\"\n",
    ")\n",
    "run_pepTrans(args)"
   ]
  },
  {
   "cell_type": "markdown",
   "metadata": {},
   "source": [
    "### Fold 7"
   ]
  },
  {
   "cell_type": "code",
   "execution_count": null,
   "metadata": {},
   "outputs": [
    {
     "name": "stdout",
     "output_type": "stream",
     "text": [
      "Using GPU 6\n",
      "Loading pretrained weights from: /home/kumail/Bioinformatics/Model/Protein Family/TK/TK_fold_7_Model_Weights.h5\n",
      "Loading test dataset from: /home/kumail/Bioinformatics/Dataset/Protein Family/Output/Embedding/Kinase_TK/KFold/test_fold_7.csv\n",
      "Pretrained model weights loaded.\n",
      "425/425 [==============================] - 5s 13ms/step\n",
      "\n",
      "=== Test Set Evaluation ===\n",
      "Test Loss: 0.2668\n",
      "Test Model AUC: 0.9460\n",
      "Test AUC: 0.9460\n",
      "\n",
      "Total execution time: 35.37 seconds\n"
     ]
    }
   ],
   "source": [
    "args = SimpleNamespace(\n",
    "    mode='pbd',\n",
    "    csv= \"/home/kumail/Bioinformatics/Dataset/Protein Family/Output/Embedding/Kinase_TK/KFold/test_fold_1.csv\",\n",
    "    label='Bound',\n",
    "    train_h5=None,\n",
    "    test_h5=None,\n",
    "    gpu='6',\n",
    "    weights= \"/home/kumail/Bioinformatics/pepTrans/Protein Family/TK/TK_fold_7_pepTrans_Weights.h5\", \n",
    "    test_csv= \"/home/kumail/Bioinformatics/Dataset/Protein Family/Output/Embedding/Kinase_TK/KFold/test_fold_7.csv\"\n",
    ")\n",
    "run_pepTrans(args)"
   ]
  },
  {
   "cell_type": "markdown",
   "metadata": {},
   "source": [
    "### Fold 8"
   ]
  },
  {
   "cell_type": "code",
   "execution_count": null,
   "metadata": {},
   "outputs": [
    {
     "name": "stdout",
     "output_type": "stream",
     "text": [
      "Using GPU 6\n",
      "Loading pretrained weights from: /home/kumail/Bioinformatics/Model/Protein Family/TK/TK_fold_8_Model_Weights.h5\n",
      "Loading test dataset from: /home/kumail/Bioinformatics/Dataset/Protein Family/Output/Embedding/Kinase_TK/KFold/test_fold_8.csv\n",
      "Pretrained model weights loaded.\n",
      "425/425 [==============================] - 5s 13ms/step\n",
      "\n",
      "=== Test Set Evaluation ===\n",
      "Test Loss: 0.2689\n",
      "Test Model AUC: 0.9411\n",
      "Test AUC: 0.9411\n",
      "\n",
      "Total execution time: 35.20 seconds\n"
     ]
    }
   ],
   "source": [
    "args = SimpleNamespace(\n",
    "    mode='pbd',\n",
    "    csv= \"/home/kumail/Bioinformatics/Dataset/Protein Family/Output/Embedding/Kinase_TK/KFold/test_fold_1.csv\",\n",
    "    label='Bound',\n",
    "    train_h5=None,\n",
    "    test_h5=None,\n",
    "    gpu='6',\n",
    "    weights= \"/home/kumail/Bioinformatics/pepTrans/Protein Family/TK/TK_fold_8_pepTrans_Weights.h5\", \n",
    "    test_csv= \"/home/kumail/Bioinformatics/Dataset/Protein Family/Output/Embedding/Kinase_TK/KFold/test_fold_8.csv\"\n",
    ")\n",
    "run_pepTrans(args)"
   ]
  }
 ],
 "metadata": {
  "kernelspec": {
   "display_name": "SKS",
   "language": "python",
   "name": "python3"
  },
  "language_info": {
   "codemirror_mode": {
    "name": "ipython",
    "version": 3
   },
   "file_extension": ".py",
   "mimetype": "text/x-python",
   "name": "python",
   "nbconvert_exporter": "python",
   "pygments_lexer": "ipython3",
   "version": "3.9.16"
  }
 },
 "nbformat": 4,
 "nbformat_minor": 2
}
