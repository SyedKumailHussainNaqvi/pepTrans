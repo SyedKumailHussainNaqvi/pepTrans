{
 "cells": [
  {
   "cell_type": "code",
   "execution_count": 1,
   "metadata": {},
   "outputs": [
    {
     "name": "stderr",
     "output_type": "stream",
     "text": [
      "/home/kumail/anaconda3/envs/SKS/lib/python3.9/site-packages/tensorflow_addons/utils/tfa_eol_msg.py:23: UserWarning: \n",
      "\n",
      "TensorFlow Addons (TFA) has ended development and introduction of new features.\n",
      "TFA has entered a minimal maintenance and release mode until a planned end of life in May 2024.\n",
      "Please modify downstream libraries to take dependencies from other repositories in our TensorFlow community (e.g. Keras, Keras-CV, and Keras-NLP). \n",
      "\n",
      "For more information see: https://github.com/tensorflow/addons/issues/2807 \n",
      "\n",
      "  warnings.warn(\n",
      "/home/kumail/anaconda3/envs/SKS/lib/python3.9/site-packages/tensorflow_addons/utils/ensure_tf_install.py:53: UserWarning: Tensorflow Addons supports using Python ops for all Tensorflow versions above or equal to 2.13.0 and strictly below 2.16.0 (nightly versions are not supported). \n",
      " The versions of TensorFlow you are currently using is 2.9.0 and is not supported. \n",
      "Some things might work, some things might not.\n",
      "If you were to encounter a bug, do not file an issue.\n",
      "If you want to make sure you're using a tested and supported configuration, either change the TensorFlow version or the TensorFlow Addons's version. \n",
      "You can find the compatibility matrix in TensorFlow Addon's readme:\n",
      "https://github.com/tensorflow/addons\n",
      "  warnings.warn(\n"
     ]
    }
   ],
   "source": [
    "%run \"/home/kumail/Bioinformatics/pepTrans Code/imports.py\"\n",
    "%run \"/home/kumail/Bioinformatics/pepTrans Code/Binary_Classification_pepTrans_module.py\" \n",
    "%run \"/home/kumail/Bioinformatics/pepTrans Code/pepTrans.py\"\n",
    "%run \"/home/kumail/Bioinformatics/pepTrans Code/run_pepTrans_Jupyter.py\"\n",
    "import warnings\n",
    "import logging\n",
    "warnings.filterwarnings(\"ignore\")\n",
    "logging.getLogger('tensorflow').setLevel(logging.ERROR)\n",
    "warnings.filterwarnings(\"ignore\", message=\".*TensorFlow Addons.*\")\n",
    "warnings.filterwarnings(\"ignore\", message=\".*you are currently using is 2.9.0 and is not supported.*\")\n",
    "os.environ['CUDA_VISIBLE_DEVICES'] = '6'\n",
    "tf.config.run_functions_eagerly(True)"
   ]
  },
  {
   "cell_type": "markdown",
   "metadata": {},
   "source": [
    "### 1:1 Ratio"
   ]
  },
  {
   "cell_type": "code",
   "execution_count": null,
   "metadata": {},
   "outputs": [
    {
     "name": "stdout",
     "output_type": "stream",
     "text": [
      "Using GPU 6\n",
      "Loading pretrained weights from: /home/kumail/Bioinformatics/Model/1:1 Ratio/Two_CNN_1:1_Model_Weights.h5\n",
      "Loading test dataset from: /home/kumail/Bioinformatics/Dataset/1:1_test_dataset.csv\n"
     ]
    },
    {
     "name": "stderr",
     "output_type": "stream",
     "text": [
      "2025-08-08 17:03:31.026171: I tensorflow/core/platform/cpu_feature_guard.cc:193] This TensorFlow binary is optimized with oneAPI Deep Neural Network Library (oneDNN) to use the following CPU instructions in performance-critical operations:  AVX2 FMA\n",
      "To enable them in other operations, rebuild TensorFlow with the appropriate compiler flags.\n",
      "2025-08-08 17:03:31.706887: I tensorflow/core/common_runtime/gpu/gpu_device.cc:1532] Created device /job:localhost/replica:0/task:0/device:GPU:0 with 11097 MB memory:  -> device: 0, name: NVIDIA TITAN Xp, pci bus id: 0000:0e:00.0, compute capability: 6.1\n"
     ]
    },
    {
     "name": "stdout",
     "output_type": "stream",
     "text": [
      "Pretrained model weights loaded.\n"
     ]
    },
    {
     "name": "stderr",
     "output_type": "stream",
     "text": [
      "2025-08-08 17:03:32.957825: I tensorflow/stream_executor/cuda/cuda_dnn.cc:384] Loaded cuDNN version 8500\n"
     ]
    },
    {
     "name": "stdout",
     "output_type": "stream",
     "text": [
      "10/19 [==============>...............] - ETA: 0s"
     ]
    },
    {
     "name": "stderr",
     "output_type": "stream",
     "text": [
      "2025-08-08 17:03:33.256932: I tensorflow/core/platform/default/subprocess.cc:304] Start cannot spawn child process: No such file or directory\n",
      "2025-08-08 17:03:33.259558: E tensorflow/stream_executor/gpu/asm_compiler.cc:105] You are using ptxas 8.x, but TF requires ptxas 9.x (and strongly prefers >= 11.1).  Compilation of XLA kernels below will likely fail.\n",
      "\n",
      "You may not need to update CUDA; cherry-picking the ptxas binary is often sufficient.\n"
     ]
    },
    {
     "name": "stdout",
     "output_type": "stream",
     "text": [
      "19/19 [==============================] - 1s 13ms/step\n",
      "\n",
      "=== Test Set Evaluation ===\n",
      "Test Loss: 0.5985\n",
      "Test Accuracy: 0.8243\n",
      "Test Model AUC: 0.9100\n",
      "Test ROC AUC: 0.9146\n",
      "Test AUPR: 0.9056\n",
      "\n",
      "Total execution time: 20.32 seconds\n"
     ]
    }
   ],
   "source": [
    "args = SimpleNamespace(\n",
    "    mode='b',\n",
    "    csv='/home/kumail/Bioinformatics/NA_Updated_dataset.csv',\n",
    "    label='Label',\n",
    "    train_h5=None,\n",
    "    test_h5=None,\n",
    "    gpu='6',\n",
    "    weights=\"/home/kumail/Bioinformatics/github pepTrans/pepTrans weight/Generalizability/pepTrans_1:1_Weights.h5\", \n",
    "    test_csv='/home/kumail/Bioinformatics/Dataset/1:1_test_dataset.csv' \n",
    ")\n",
    "run_pepTrans(args)"
   ]
  },
  {
   "cell_type": "markdown",
   "metadata": {},
   "source": [
    "### 1:5 Ratio"
   ]
  },
  {
   "cell_type": "code",
   "execution_count": null,
   "metadata": {},
   "outputs": [
    {
     "name": "stdout",
     "output_type": "stream",
     "text": [
      "Using GPU 6\n",
      "Loading pretrained weights from: /home/kumail/Bioinformatics/Model/1:5 Ratio/Two_CNN_1:5_Model_Weights.h5\n",
      "Loading test dataset from: /home/kumail/Bioinformatics/Dataset/1:5_test_dataset.csv\n",
      "Pretrained model weights loaded.\n",
      "56/56 [==============================] - 1s 12ms/step\n",
      "\n",
      "=== Test Set Evaluation ===\n",
      "Test Loss: 0.4852\n",
      "Test Accuracy: 0.8480\n",
      "Test Model AUC: 0.9036\n",
      "Test ROC AUC: 0.9075\n",
      "Test AUPR: 0.7078\n",
      "\n",
      "Total execution time: 43.23 seconds\n"
     ]
    }
   ],
   "source": [
    "args = SimpleNamespace(\n",
    "    mode='b',\n",
    "    csv='/home/kumail/Bioinformatics/NA_Updated_dataset.csv',\n",
    "    label='Label',\n",
    "    train_h5=None,\n",
    "    test_h5=None,\n",
    "    gpu='6',\n",
    "    weights=\"/home/kumail/Bioinformatics/github pepTrans/pepTrans weight/Generalizability/pepTrans_1:5_Weights.h5\",  \n",
    "    test_csv=\"/home/kumail/Bioinformatics/Dataset/1:5_test_dataset.csv\"\n",
    ")\n",
    "run_pepTrans(args)"
   ]
  },
  {
   "cell_type": "markdown",
   "metadata": {},
   "source": [
    "### 1:10 Ratio"
   ]
  },
  {
   "cell_type": "code",
   "execution_count": null,
   "metadata": {},
   "outputs": [
    {
     "name": "stdout",
     "output_type": "stream",
     "text": [
      "Using GPU 6\n",
      "Loading pretrained weights from: /home/kumail/Bioinformatics/Model/1:10 Ratio/Two_CNN_1:10_Model_Weights.h5\n",
      "Loading test dataset from: /home/kumail/Bioinformatics/Dataset/1:10_test_dataset.csv\n",
      "Pretrained model weights loaded.\n",
      "102/102 [==============================] - 1s 13ms/step\n",
      "\n",
      "=== Test Set Evaluation ===\n",
      "Test Loss: 0.4036\n",
      "Test Accuracy: 0.8716\n",
      "Test Model AUC: 0.9196\n",
      "Test ROC AUC: 0.9216\n",
      "Test AUPR: 0.5761\n",
      "\n",
      "Total execution time: 51.65 seconds\n"
     ]
    }
   ],
   "source": [
    "args = SimpleNamespace(\n",
    "    mode='b',\n",
    "    csv='/home/kumail/Bioinformatics/NA_Updated_dataset.csv',\n",
    "    label='Label',\n",
    "    train_h5=None,\n",
    "    test_h5=None,\n",
    "    gpu='6',\n",
    "    weights=\"/home/kumail/Bioinformatics/github pepTrans/pepTrans weight/Generalizability/pepTrans_1:10_Weights.h5\", \n",
    "    test_csv=\"/home/kumail/Bioinformatics/Dataset/1:10_test_dataset.csv\" \n",
    ")\n",
    "run_pepTrans(args)"
   ]
  },
  {
   "cell_type": "markdown",
   "metadata": {},
   "source": [
    "### 1:20 Ratio"
   ]
  },
  {
   "cell_type": "code",
   "execution_count": null,
   "metadata": {},
   "outputs": [
    {
     "name": "stdout",
     "output_type": "stream",
     "text": [
      "Using GPU 6\n",
      "Loading pretrained weights from: /home/kumail/Bioinformatics/Model/1:20 Ratio/Two_CNN_1:20_Model_Weights.h5\n",
      "Loading test dataset from: /home/kumail/Bioinformatics/Dataset/1:20_test_dataset.csv\n",
      "Pretrained model weights loaded.\n",
      "195/195 [==============================] - 2s 12ms/step\n",
      "\n",
      "=== Test Set Evaluation ===\n",
      "Test Loss: 0.4088\n",
      "Test Accuracy: 0.8731\n",
      "Test Model AUC: 0.9104\n",
      "Test ROC AUC: 0.9162\n",
      "Test AUPR: 0.4447\n",
      "\n",
      "Total execution time: 47.66 seconds\n"
     ]
    }
   ],
   "source": [
    "args = SimpleNamespace(\n",
    "    mode='b',\n",
    "    csv='/home/kumail/Bioinformatics/NA_Updated_dataset.csv',\n",
    "    label='Label',\n",
    "    train_h5=None,\n",
    "    test_h5=None,\n",
    "    gpu='6',\n",
    "    weights=\"/home/kumail/Bioinformatics/github pepTrans/pepTrans weight/Generalizability/pepTrans_1:20_Weights.h5\", \n",
    "    test_csv=\"/home/kumail/Bioinformatics/Dataset/1:20_test_dataset.csv\" \n",
    ")\n",
    "run_pepTrans(args)"
   ]
  },
  {
   "cell_type": "code",
   "execution_count": null,
   "metadata": {},
   "outputs": [],
   "source": []
  }
 ],
 "metadata": {
  "kernelspec": {
   "display_name": "SKS",
   "language": "python",
   "name": "python3"
  },
  "language_info": {
   "codemirror_mode": {
    "name": "ipython",
    "version": 3
   },
   "file_extension": ".py",
   "mimetype": "text/x-python",
   "name": "python",
   "nbconvert_exporter": "python",
   "pygments_lexer": "ipython3",
   "version": "3.9.16"
  }
 },
 "nbformat": 4,
 "nbformat_minor": 2
}
