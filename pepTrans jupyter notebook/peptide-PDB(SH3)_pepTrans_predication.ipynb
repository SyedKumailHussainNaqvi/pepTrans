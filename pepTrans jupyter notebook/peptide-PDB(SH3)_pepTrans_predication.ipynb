{
 "cells": [
  {
   "cell_type": "code",
   "execution_count": 1,
   "metadata": {},
   "outputs": [
    {
     "name": "stderr",
     "output_type": "stream",
     "text": [
      "/home/kumail/anaconda3/envs/SKS/lib/python3.9/site-packages/tensorflow_addons/utils/tfa_eol_msg.py:23: UserWarning: \n",
      "\n",
      "TensorFlow Addons (TFA) has ended development and introduction of new features.\n",
      "TFA has entered a minimal maintenance and release mode until a planned end of life in May 2024.\n",
      "Please modify downstream libraries to take dependencies from other repositories in our TensorFlow community (e.g. Keras, Keras-CV, and Keras-NLP). \n",
      "\n",
      "For more information see: https://github.com/tensorflow/addons/issues/2807 \n",
      "\n",
      "  warnings.warn(\n",
      "/home/kumail/anaconda3/envs/SKS/lib/python3.9/site-packages/tensorflow_addons/utils/ensure_tf_install.py:53: UserWarning: Tensorflow Addons supports using Python ops for all Tensorflow versions above or equal to 2.13.0 and strictly below 2.16.0 (nightly versions are not supported). \n",
      " The versions of TensorFlow you are currently using is 2.9.0 and is not supported. \n",
      "Some things might work, some things might not.\n",
      "If you were to encounter a bug, do not file an issue.\n",
      "If you want to make sure you're using a tested and supported configuration, either change the TensorFlow version or the TensorFlow Addons's version. \n",
      "You can find the compatibility matrix in TensorFlow Addon's readme:\n",
      "https://github.com/tensorflow/addons\n",
      "  warnings.warn(\n"
     ]
    }
   ],
   "source": [
    "%run \"/home/kumail/Bioinformatics/pepTrans Code/imports.py\"\n",
    "%run \"/home/kumail/Bioinformatics/pepTrans Code/Binary_Classification_pepTrans_module.py\" \n",
    "%run \"/home/kumail/Bioinformatics/pepTrans Code/pepTrans.py\"\n",
    "%run \"/home/kumail/Bioinformatics/pepTrans Code/run_pepTrans_Jupyter.py\"\n",
    "import warnings\n",
    "import logging\n",
    "warnings.filterwarnings(\"ignore\")\n",
    "logging.getLogger('tensorflow').setLevel(logging.ERROR)\n",
    "warnings.filterwarnings(\"ignore\", message=\".*TensorFlow Addons.*\")\n",
    "warnings.filterwarnings(\"ignore\", message=\".*you are currently using is 2.9.0 and is not supported.*\")\n",
    "os.environ['CUDA_VISIBLE_DEVICES'] = '6'\n",
    "tf.config.run_functions_eagerly(True)"
   ]
  },
  {
   "cell_type": "markdown",
   "metadata": {},
   "source": [
    "### Fold 1"
   ]
  },
  {
   "cell_type": "code",
   "execution_count": null,
   "metadata": {},
   "outputs": [
    {
     "name": "stdout",
     "output_type": "stream",
     "text": [
      "Using GPU 6\n",
      "Loading pretrained weights from: /home/kumail/Bioinformatics/Model/Protein Family/SH3/SH3_fold_1_Model_Weights.h5\n",
      "Loading test dataset from: /home/kumail/Bioinformatics/Dataset/Protein Family/Output/Embedding/SH3/KFold/test_fold_1.csv\n"
     ]
    },
    {
     "name": "stderr",
     "output_type": "stream",
     "text": [
      "2025-08-09 02:46:59.614087: I tensorflow/core/platform/cpu_feature_guard.cc:193] This TensorFlow binary is optimized with oneAPI Deep Neural Network Library (oneDNN) to use the following CPU instructions in performance-critical operations:  AVX2 FMA\n",
      "To enable them in other operations, rebuild TensorFlow with the appropriate compiler flags.\n",
      "2025-08-09 02:47:00.392157: I tensorflow/core/common_runtime/gpu/gpu_device.cc:1532] Created device /job:localhost/replica:0/task:0/device:GPU:0 with 11097 MB memory:  -> device: 0, name: NVIDIA TITAN Xp, pci bus id: 0000:0e:00.0, compute capability: 6.1\n"
     ]
    },
    {
     "name": "stdout",
     "output_type": "stream",
     "text": [
      "Pretrained model weights loaded.\n"
     ]
    },
    {
     "name": "stderr",
     "output_type": "stream",
     "text": [
      "2025-08-09 02:47:16.237660: I tensorflow/stream_executor/cuda/cuda_dnn.cc:384] Loaded cuDNN version 8500\n"
     ]
    },
    {
     "name": "stdout",
     "output_type": "stream",
     "text": [
      "   7/2548 [..............................] - ETA: 46s   "
     ]
    },
    {
     "name": "stderr",
     "output_type": "stream",
     "text": [
      "2025-08-09 02:47:16.681878: I tensorflow/core/platform/default/subprocess.cc:304] Start cannot spawn child process: No such file or directory\n",
      "2025-08-09 02:47:16.694490: E tensorflow/stream_executor/gpu/asm_compiler.cc:105] You are using ptxas 8.x, but TF requires ptxas 9.x (and strongly prefers >= 11.1).  Compilation of XLA kernels below will likely fail.\n",
      "\n",
      "You may not need to update CUDA; cherry-picking the ptxas binary is often sufficient.\n"
     ]
    },
    {
     "name": "stdout",
     "output_type": "stream",
     "text": [
      "2548/2548 [==============================] - 36s 14ms/step\n",
      "\n",
      "=== Test Set Evaluation ===\n",
      "Test Loss: 0.2948\n",
      "Test Model AUC: 0.9345\n",
      "Test AUC: 0.9345\n",
      "\n",
      "Total execution time: 386.41 seconds\n"
     ]
    }
   ],
   "source": [
    "args = SimpleNamespace(\n",
    "    mode='pbd',\n",
    "    csv= \"/home/kumail/Bioinformatics/Dataset/Protein Family/Output/Embedding/SH3/KFold/test_fold_1.csv\",\n",
    "    label='Bound',\n",
    "    train_h5=None,\n",
    "    test_h5=None,\n",
    "    gpu='6',\n",
    "    weights= \"/home/kumail/Bioinformatics/pepTrans/Protein Family/SH3/SH3_fold_1_pepTrans_Weights.h5\", \n",
    "    test_csv= \"/home/kumail/Bioinformatics/Dataset/Protein Family/Output/Embedding/SH3/KFold/test_fold_1.csv\"\n",
    ")\n",
    "run_pepTrans(args)"
   ]
  },
  {
   "cell_type": "markdown",
   "metadata": {},
   "source": [
    "### Fold 2"
   ]
  },
  {
   "cell_type": "code",
   "execution_count": null,
   "metadata": {},
   "outputs": [
    {
     "name": "stdout",
     "output_type": "stream",
     "text": [
      "Using GPU 6\n",
      "Loading pretrained weights from: /home/kumail/Bioinformatics/Model/Protein Family/SH3/SH3_fold_2_Model_Weights.h5\n",
      "Loading test dataset from: /home/kumail/Bioinformatics/Dataset/Protein Family/Output/Embedding/SH3/KFold/test_fold_2.csv\n",
      "Pretrained model weights loaded.\n",
      "2548/2548 [==============================] - 35s 14ms/step\n",
      "\n",
      "=== Test Set Evaluation ===\n",
      "Test Loss: 0.2705\n",
      "Test Model AUC: 0.9448\n",
      "Test AUC: 0.9448\n",
      "\n",
      "Total execution time: 387.19 seconds\n"
     ]
    }
   ],
   "source": [
    "args = SimpleNamespace(\n",
    "    mode='pbd',\n",
    "    csv= \"/home/kumail/Bioinformatics/Dataset/Protein Family/Output/Embedding/SH3/KFold/test_fold_1.csv\" ,\n",
    "    label='Bound',\n",
    "    train_h5=None,\n",
    "    test_h5=None,\n",
    "    gpu='6',\n",
    "    weights= \"/home/kumail/Bioinformatics/pepTrans/Protein Family/SH3/SH3_fold_2_pepTrans_Weights.h5\", \n",
    "    test_csv= \"/home/kumail/Bioinformatics/Dataset/Protein Family/Output/Embedding/SH3/KFold/test_fold_2.csv\"\n",
    ")\n",
    "run_pepTrans(args)"
   ]
  },
  {
   "cell_type": "markdown",
   "metadata": {},
   "source": [
    "### Fold 3"
   ]
  },
  {
   "cell_type": "code",
   "execution_count": null,
   "metadata": {},
   "outputs": [
    {
     "name": "stdout",
     "output_type": "stream",
     "text": [
      "Using GPU 6\n",
      "Loading pretrained weights from: /home/kumail/Bioinformatics/Model/Protein Family/SH3/SH3_fold_3_Model_Weights.h5\n",
      "Loading test dataset from: /home/kumail/Bioinformatics/Dataset/Protein Family/Output/Embedding/SH3/KFold/test_fold_3.csv\n",
      "Pretrained model weights loaded.\n",
      "2548/2548 [==============================] - 35s 14ms/step\n",
      "\n",
      "=== Test Set Evaluation ===\n",
      "Test Loss: 0.2928\n",
      "Test Model AUC: 0.9363\n",
      "Test AUC: 0.9364\n",
      "\n",
      "Total execution time: 387.95 seconds\n"
     ]
    }
   ],
   "source": [
    "args = SimpleNamespace(\n",
    "    mode='pbd',\n",
    "    csv= \"/home/kumail/Bioinformatics/Dataset/Protein Family/Output/Embedding/SH3/KFold/test_fold_1.csv\",\n",
    "    label='Bound',\n",
    "    train_h5=None,\n",
    "    test_h5=None,\n",
    "    gpu='6',\n",
    "    weights= \"/home/kumail/Bioinformatics/pepTrans/Protein Family/SH3/SH3_fold_3_pepTrans_Weights.h5\", \n",
    "    test_csv= \"/home/kumail/Bioinformatics/Dataset/Protein Family/Output/Embedding/SH3/KFold/test_fold_3.csv\"\n",
    ")\n",
    "run_pepTrans(args)"
   ]
  },
  {
   "cell_type": "markdown",
   "metadata": {},
   "source": [
    "### Fold 4"
   ]
  },
  {
   "cell_type": "code",
   "execution_count": null,
   "metadata": {},
   "outputs": [
    {
     "name": "stdout",
     "output_type": "stream",
     "text": [
      "Using GPU 6\n",
      "Loading pretrained weights from: /home/kumail/Bioinformatics/Model/Protein Family/SH3/SH3_fold_4_Model_Weights.h5\n",
      "Loading test dataset from: /home/kumail/Bioinformatics/Dataset/Protein Family/Output/Embedding/SH3/KFold/test_fold_4.csv\n",
      "Pretrained model weights loaded.\n",
      "2548/2548 [==============================] - 32s 13ms/step\n",
      "\n",
      "=== Test Set Evaluation ===\n",
      "Test Loss: 0.3422\n",
      "Test Model AUC: 0.9327\n",
      "Test AUC: 0.9327\n",
      "\n",
      "Total execution time: 173.25 seconds\n"
     ]
    }
   ],
   "source": [
    "args = SimpleNamespace(\n",
    "    mode='pbd',\n",
    "    csv= \"/home/kumail/Bioinformatics/Dataset/Protein Family/Output/Embedding/SH3/KFold/test_fold_1.csv\",\n",
    "    label='Bound',\n",
    "    train_h5=None,\n",
    "    test_h5=None,\n",
    "    gpu='6',\n",
    "    weights= \"/home/kumail/Bioinformatics/pepTrans/Protein Family/SH3/SH3_fold_4_pepTrans_Weights.h5\", \n",
    "    test_csv= \"/home/kumail/Bioinformatics/Dataset/Protein Family/Output/Embedding/SH3/KFold/test_fold_4.csv\"\n",
    ")\n",
    "run_pepTrans(args)"
   ]
  },
  {
   "cell_type": "markdown",
   "metadata": {},
   "source": [
    "### Fold 5"
   ]
  },
  {
   "cell_type": "code",
   "execution_count": null,
   "metadata": {},
   "outputs": [
    {
     "name": "stdout",
     "output_type": "stream",
     "text": [
      "Using GPU 6\n",
      "Loading pretrained weights from: /home/kumail/Bioinformatics/Model/Protein Family/SH3/SH3_fold_1_Model_Weights.h5\n",
      "Loading test dataset from: /home/kumail/Bioinformatics/Dataset/Protein Family/Output/Embedding/SH3/KFold/test_fold_5.csv\n",
      "Pretrained model weights loaded.\n",
      "2548/2548 [==============================] - 33s 13ms/step\n",
      "\n",
      "=== Test Set Evaluation ===\n",
      "Test Loss: 0.2942\n",
      "Test Model AUC: 0.9378\n",
      "Test AUC: 0.9378\n",
      "\n",
      "Total execution time: 194.35 seconds\n"
     ]
    }
   ],
   "source": [
    "args = SimpleNamespace(\n",
    "    mode='pbd',\n",
    "    csv= \"/home/kumail/Bioinformatics/Dataset/Protein Family/Output/Embedding/SH3/KFold/test_fold_1.csv\" ,\n",
    "    label='Bound',\n",
    "    train_h5=None,\n",
    "    test_h5=None,\n",
    "    gpu='6',\n",
    "    weights= \"/home/kumail/Bioinformatics/pepTrans/Protein Family/SH3/SH3_fold_1_pepTrans_Weights.h5\", \n",
    "    test_csv= \"/home/kumail/Bioinformatics/Dataset/Protein Family/Output/Embedding/SH3/KFold/test_fold_5.csv\"\n",
    ")\n",
    "run_pepTrans(args)"
   ]
  },
  {
   "cell_type": "markdown",
   "metadata": {},
   "source": [
    "### Fold 6"
   ]
  },
  {
   "cell_type": "code",
   "execution_count": null,
   "metadata": {},
   "outputs": [
    {
     "name": "stdout",
     "output_type": "stream",
     "text": [
      "Using GPU 6\n",
      "Loading pretrained weights from: /home/kumail/Bioinformatics/Model/Protein Family/SH3/SH3_fold_6_Model_Weights.h5\n",
      "Loading test dataset from: /home/kumail/Bioinformatics/Dataset/Protein Family/Output/Embedding/SH3/KFold/test_fold_6.csv\n",
      "Pretrained model weights loaded.\n",
      "2548/2548 [==============================] - 30s 12ms/step\n",
      "\n",
      "=== Test Set Evaluation ===\n",
      "Test Loss: 0.2642\n",
      "Test Model AUC: 0.9324\n",
      "Test AUC: 0.9324\n",
      "\n",
      "Total execution time: 171.35 seconds\n"
     ]
    }
   ],
   "source": [
    "args = SimpleNamespace(\n",
    "    mode='pbd',\n",
    "    csv= \"/home/kumail/Bioinformatics/Dataset/Protein Family/Output/Embedding/SH3/KFold/test_fold_1.csv\",\n",
    "    label='Bound',\n",
    "    train_h5=None,\n",
    "    test_h5=None,\n",
    "    gpu='6',\n",
    "    weights= \"/home/kumail/Bioinformatics/pepTrans/Protein Family/SH3/SH3_fold_6_pepTrans_Weights.h5\", \n",
    "    test_csv= \"/home/kumail/Bioinformatics/Dataset/Protein Family/Output/Embedding/SH3/KFold/test_fold_6.csv\"\n",
    ")\n",
    "run_pepTrans(args)"
   ]
  },
  {
   "cell_type": "markdown",
   "metadata": {},
   "source": [
    "### Fold 7"
   ]
  },
  {
   "cell_type": "code",
   "execution_count": null,
   "metadata": {},
   "outputs": [
    {
     "name": "stdout",
     "output_type": "stream",
     "text": [
      "Using GPU 6\n",
      "Loading pretrained weights from: /home/kumail/Bioinformatics/Model/Protein Family/SH3/SH3_fold_7_Model_Weights.h5\n",
      "Loading test dataset from: /home/kumail/Bioinformatics/Dataset/Protein Family/Output/Embedding/SH3/KFold/test_fold_7.csv\n",
      "Pretrained model weights loaded.\n",
      "2548/2548 [==============================] - 30s 12ms/step\n",
      "\n",
      "=== Test Set Evaluation ===\n",
      "Test Loss: 0.2667\n",
      "Test Model AUC: 0.9366\n",
      "Test AUC: 0.9367\n",
      "\n",
      "Total execution time: 159.28 seconds\n"
     ]
    }
   ],
   "source": [
    "args = SimpleNamespace(\n",
    "    mode='pbd',\n",
    "    csv= \"/home/kumail/Bioinformatics/Dataset/Protein Family/Output/Embedding/SH3/KFold/test_fold_7.csv\",\n",
    "    label='Bound',\n",
    "    train_h5=None,\n",
    "    test_h5=None,\n",
    "    gpu='6',\n",
    "    weights= \"/home/kumail/Bioinformatics/pepTrans/Protein Family/SH3/SH3_fold_7_pepTrans_Weights.h5\", \n",
    "    test_csv= \"/home/kumail/Bioinformatics/Dataset/Protein Family/Output/Embedding/SH3/KFold/test_fold_7.csv\"\n",
    ")\n",
    "run_pepTrans(args)"
   ]
  },
  {
   "cell_type": "markdown",
   "metadata": {},
   "source": [
    "### Fold 8"
   ]
  },
  {
   "cell_type": "code",
   "execution_count": null,
   "metadata": {},
   "outputs": [
    {
     "name": "stdout",
     "output_type": "stream",
     "text": [
      "Using GPU 6\n",
      "Loading pretrained weights from: /home/kumail/Bioinformatics/Model/Protein Family/SH3/SH3_fold_8_Model_Weights.h5\n",
      "Loading test dataset from: /home/kumail/Bioinformatics/Dataset/Protein Family/Output/Embedding/SH3/KFold/test_fold_8.csv\n",
      "Pretrained model weights loaded.\n",
      "2548/2548 [==============================] - 30s 12ms/step\n",
      "\n",
      "=== Test Set Evaluation ===\n",
      "Test Loss: 0.2691\n",
      "Test Model AUC: 0.9372\n",
      "Test AUC: 0.9372\n",
      "\n",
      "Total execution time: 158.60 seconds\n"
     ]
    }
   ],
   "source": [
    "args = SimpleNamespace(\n",
    "    mode='pbd',\n",
    "    csv= \"/home/kumail/Bioinformatics/Dataset/Protein Family/Output/Embedding/SH3/KFold/test_fold_8.csv\",\n",
    "    label='Bound',\n",
    "    train_h5=None,\n",
    "    test_h5=None,\n",
    "    gpu='6',\n",
    "    weights= \"/home/kumail/Bioinformatics/pepTrans/Protein Family/SH3/SH3_fold_8_pepTrans_Weights.h5\", \n",
    "    test_csv= \"/home/kumail/Bioinformatics/Dataset/Protein Family/Output/Embedding/SH3/KFold/test_fold_8.csv\"\n",
    ")\n",
    "run_pepTrans(args)"
   ]
  }
 ],
 "metadata": {
  "kernelspec": {
   "display_name": "SKS",
   "language": "python",
   "name": "python3"
  },
  "language_info": {
   "codemirror_mode": {
    "name": "ipython",
    "version": 3
   },
   "file_extension": ".py",
   "mimetype": "text/x-python",
   "name": "python",
   "nbconvert_exporter": "python",
   "pygments_lexer": "ipython3",
   "version": "3.9.16"
  }
 },
 "nbformat": 4,
 "nbformat_minor": 2
}
